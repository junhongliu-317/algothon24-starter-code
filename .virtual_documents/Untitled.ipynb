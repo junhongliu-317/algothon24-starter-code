import numpy as np
import pandas as pd
import seaborn as sns
import matplotlib.pyplot as plt


def loadPrices(fn):
    global nt, nInst
    df = pd.read_csv(fn, sep='\s+', header=None, index_col=None)
    (nt, nInst) = df.shape
    return (df)


pricesFile = "./prices.txt"
prcAll = loadPrices(pricesFile)


prcAll


plt.figure(figsize=(16,16))
corr = prcAll.corr()
sns.heatmap(corr, vmin = -1, vmax = 1, cmap="coolwarm")


abs(corr.iloc[0,49])


#find instruments with high absolute correlation with each other
corrThresh = 0.85
correlatedInsts = []

for i in corr.index:
    for j in range(i+1, 50):
        if abs(corr.iloc[i,j]) >= corrThresh:
            correlatedInsts += [(i,j, abs(corr.iloc[i,j]))]


correlatedInsts.sort(reverse = True, key = lambda x: x[2])


inst1 = correlatedInsts[0][0]
inst2 = correlatedInsts[0][1]
