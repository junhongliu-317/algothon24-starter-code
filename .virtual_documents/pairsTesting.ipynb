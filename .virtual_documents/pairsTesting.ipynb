import numpy as np
import pandas as pd
import seaborn as sns
import matplotlib.pyplot as plt

from statsmodels.tsa.stattools import coint, adfuller
import statsmodels.api as sm


def loadPrices(fn):
    global nt, nInst
    df = pd.read_csv(fn, sep='\s+', header=None, index_col=None)
    (nt, nInst) = df.shape
    return (df)


pricesFile = "./prices.txt"
prcAll = loadPrices(pricesFile)


prcAll


trainSize = 300

trainPrc = prcAll.iloc[:trainSize]
testPrc = prcAll.iloc[trainSize:]


nonStationInsts = []

for i in range(50):
    #find all non-stationary price series
    if adfuller(trainPrc[i])[1] > 0.1:
        nonStationInsts += [i]


#find instruments with that are cointegrated
critVal = 0.05

def findCointPairs(critVal = 0.05):
    cointInsts = []
    for i in range(len(nonStationInsts)):
        for j in range(i+1, len(nonStationInsts)):
            inst1 = nonStationInsts[i]
            inst2 = nonStationInsts[j]
            _, p, _ = coint(trainPrc[inst1], trainPrc[inst2], trend = "n")
            if p < critVal:
                cointInsts += [(inst1,inst2, p)]
    return cointInsts


cointInsts = findCointPairs(critVal)


cointInsts.sort(key = lambda x: x[2])
cointInsts


stationSpread = []
for pair in cointInsts:
    inst1 = pair[0]
    inst2 = pair[1]

    inst1Prc = trainPrc[inst1]
    inst2Prc = trainPrc[inst2]

    model=sm.OLS(inst1Prc, inst2Prc).fit()
    spread = inst1Prc - model.params.iloc[0] * inst2Prc 
    # conduct Augmented Dickey-Fuller test
    adf = adfuller(spread, maxlag = 1)
    if adf[1] < 0.01:
        stationSpread += [(inst1, inst2, model.params.iloc[0])]
#xticker = range(trainSize)
#plt.plot(xticker, inst1Prc, label = inst1Index)
#plt.plot(xticker, inst2Prc, label = inst2Index)
#plt.legend()
stationSpread


#model=sm.OLS(trainPrc[pair[0]], trainPrc[pair[1]]).fit()
#print('Hedge Ratio = ', model.params.iloc[0])
#spread = inst1Prc - model.params.iloc[0] * inst2Prc 
#ax = spread.plot(figsize=(6, 3), title = "Pair's Spread")
#ax.set_ylabel("Spread")
#ax.grid(True);


# conduct Augmented Dickey-Fuller test
#adf = adfuller(spread, maxlag = 1)
#print('P Value = ', adf[1])

# probablity critical values
#print(adf[4])
# print regression summary results

#plt.rc('figure', figsize=(12, 7))
#plt.text(0.01, 0.05, str(model.summary()), {'fontsize': 16}, fontproperties = 'monospace')
#plt.axis('off')
#plt.tight_layout()
#plt.subplots_adjust(left=0.2, right=0.8, top=0.7, bottom=0.1)


df_zScore = pd.DataFrame()
def zscore(series):
    return (series - series.mean()) / np.std(series)

ratios = testPrc[16] / testPrc[12]
df_zScore['z'] = zscore(ratios)
df_zScore['z upper limit'] = np.mean(df_zScore['z']) + np.std(df_zScore['z'])
df_zScore['z lower limit'] = np.mean(df_zScore['z']) - np.std(df_zScore['z'])

df_zScore['signals2'] = np.select([df_zScore['z'] > \
                                 df_zScore['z upper limit'], df_zScore['z'] < df_zScore['z lower limit']], [-1, 1], default=0)# we take the first order difference to obtain portfolio position in that stock
df_zScore['positions2'] = df_zScore['signals2'].diff()
df_zScore['signals1'] = -df_zScore['signals2']
df_zScore['positions1'] = df_zScore['signals1'].diff()

# visualize trading signals and position
fig=plt.figure(figsize=(14,6))
bx = fig.add_subplot(111)   
bx2 = bx.twinx()#plot two different assets
l1, = bx.plot(testPrc[2], c='black')
l2, = bx2.plot(testPrc[12], c='blue')
u1, = bx.plot(testPrc[2][df_zScore['positions1'] == 1], lw=0, marker='^', markersize=8, c='g',alpha=0.7)


df_zScore



